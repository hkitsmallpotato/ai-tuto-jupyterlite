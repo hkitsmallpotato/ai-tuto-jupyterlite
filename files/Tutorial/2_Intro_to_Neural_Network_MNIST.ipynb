{
  "metadata": {
    "kernelspec": {
      "name": "python",
      "display_name": "Python (Pyodide)",
      "language": "python"
    },
    "language_info": {
      "codemirror_mode": {
        "name": "python",
        "version": 3
      },
      "file_extension": ".py",
      "mimetype": "text/x-python",
      "name": "python",
      "nbconvert_exporter": "python",
      "pygments_lexer": "ipython3",
      "version": "3.8"
    }
  },
  "nbformat_minor": 4,
  "nbformat": 4,
  "cells": [
    {
      "cell_type": "markdown",
      "source": "# MNIST Tutorial for basic neural network\n\nIn this tutorial, we will implement, train, and evaluate a simple MLP (Multi-Layer Perceptron) neural network to perform the task of hand-written digit recognition. We will use the `autograd` library and do things in a low level way.",
      "metadata": {}
    },
    {
      "cell_type": "markdown",
      "source": "## Setup and Workaround for jupyterlite\n\nFirst run the following to install the packages needed. `pyodide_http` is needed to make reading files work, don't know why. We also import external file.",
      "metadata": {}
    },
    {
      "cell_type": "code",
      "source": "import micropip\nawait micropip.install(\"scipy\")\nawait micropip.install(\"matplotlib\")\nawait micropip.install(\"pyodide-http\")\nawait micropip.install(\"autograd\")",
      "metadata": {
        "trusted": true
      },
      "outputs": [],
      "execution_count": 1
    },
    {
      "cell_type": "code",
      "source": "import pyodide_http\npyodide_http.patch_all()",
      "metadata": {
        "trusted": true
      },
      "outputs": [],
      "execution_count": 2
    },
    {
      "cell_type": "markdown",
      "source": "### Code to download and process MNIST dataset\n\nRemember to run this.",
      "metadata": {
        "jp-MarkdownHeadingCollapsed": true
      }
    },
    {
      "cell_type": "code",
      "source": "from __future__ import absolute_import\nfrom __future__ import print_function\nimport sys\nif sys.version < \"3\":\n    from future.standard_library import install_aliases\n    install_aliases()\n\nimport os\nimport gzip\nimport struct\nimport array\nimport numpy as np\n#from urllib.request import urlretrieve\n\n#def download(url, filename):\n#    if not os.path.exists('data'):\n#        os.makedirs('data')\n#    out_file = os.path.join('data', filename)\n#    if not os.path.isfile(out_file):\n#        urlretrieve(url, out_file)\n\ndataset_base = \"../datasets/mnist\"\n\ndef mnist():\n    base_url = 'https://yann.lecun.com/exdb/mnist/'\n\n    def parse_labels(filename):\n        with gzip.open(filename, 'rb') as fh:\n            magic, num_data = struct.unpack(\">II\", fh.read(8))\n            return np.array(array.array(\"B\", fh.read()), dtype=np.uint8)\n\n    def parse_images(filename):\n        with gzip.open(filename, 'rb') as fh:\n            magic, num_data, rows, cols = struct.unpack(\">IIII\", fh.read(16))\n            return np.array(array.array(\"B\", fh.read()), dtype=np.uint8).reshape(num_data, rows, cols)\n\n    for filename in ['train-images-idx3-ubyte.gz',\n                     'train-labels-idx1-ubyte.gz',\n                     't10k-images-idx3-ubyte.gz',\n                     't10k-labels-idx1-ubyte.gz']:\n        pass\n    #download(base_url + filename, filename)\n\n    train_images = parse_images(dataset_base + '/train-images-idx3-ubyte.gz')\n    train_labels = parse_labels(dataset_base + '/train-labels-idx1-ubyte.gz')\n    test_images  = parse_images(dataset_base + '/t10k-images-idx3-ubyte.gz')\n    test_labels  = parse_labels(dataset_base + '/t10k-labels-idx1-ubyte.gz')\n\n    return train_images, train_labels, test_images, test_labels\n",
      "metadata": {
        "trusted": true
      },
      "outputs": [],
      "execution_count": 11
    },
    {
      "cell_type": "code",
      "source": "from __future__ import absolute_import\nimport matplotlib.pyplot as plt\nimport matplotlib.image\n\nimport autograd.numpy as np\nimport autograd.numpy.random as npr\n#import data_mnist\n\ndef load_mnist():\n    partial_flatten = lambda x : np.reshape(x, (x.shape[0], np.prod(x.shape[1:])))\n    one_hot = lambda x, k: np.array(x[:,None] == np.arange(k)[None, :], dtype=int)\n    train_images, train_labels, test_images, test_labels = mnist()\n    train_images = partial_flatten(train_images) / 255.0\n    test_images  = partial_flatten(test_images)  / 255.0\n    train_labels = one_hot(train_labels, 10)\n    test_labels = one_hot(test_labels, 10)\n    N_data = train_images.shape[0]\n\n    return N_data, train_images, train_labels, test_images, test_labels\n\n\ndef plot_images(images, ax, ims_per_row=5, padding=5, digit_dimensions=(28, 28),\n                cmap=matplotlib.cm.binary, vmin=None, vmax=None):\n    \"\"\"Images should be a (N_images x pixels) matrix.\"\"\"\n    N_images = images.shape[0]\n    N_rows = (N_images - 1) // ims_per_row + 1\n    pad_value = np.min(images.ravel())\n    concat_images = np.full(((digit_dimensions[0] + padding) * N_rows + padding,\n                             (digit_dimensions[1] + padding) * ims_per_row + padding), pad_value)\n    for i in range(N_images):\n        cur_image = np.reshape(images[i, :], digit_dimensions)\n        row_ix = i // ims_per_row\n        col_ix = i % ims_per_row\n        row_start = padding + (padding + digit_dimensions[0]) * row_ix\n        col_start = padding + (padding + digit_dimensions[1]) * col_ix\n        concat_images[row_start: row_start + digit_dimensions[0],\n                      col_start: col_start + digit_dimensions[1]] = cur_image\n    cax = ax.matshow(concat_images, cmap=cmap, vmin=vmin, vmax=vmax)\n    plt.xticks(np.array([]))\n    plt.yticks(np.array([]))\n    return cax\n\ndef save_images(images, filename, **kwargs):\n    fig = plt.figure(1)\n    fig.clf()\n    ax = fig.add_subplot(111)\n    plot_images(images, ax, **kwargs)\n    fig.patch.set_visible(False)\n    ax.patch.set_visible(False)\n    plt.savefig(filename)\n\n\ndef make_pinwheel(radial_std, tangential_std, num_classes, num_per_class, rate,\n                  rs=npr.RandomState(0)):\n    \"\"\"Based on code by Ryan P. Adams.\"\"\"\n    rads = np.linspace(0, 2*np.pi, num_classes, endpoint=False)\n\n    features = rs.randn(num_classes*num_per_class, 2) \\\n        * np.array([radial_std, tangential_std])\n    features[:, 0] += 1\n    labels = np.repeat(np.arange(num_classes), num_per_class)\n\n    angles = rads[labels] + rate * np.exp(features[:,0])\n    rotations = np.stack([np.cos(angles), -np.sin(angles), np.sin(angles), np.cos(angles)])\n    rotations = np.reshape(rotations.T, (-1, 2, 2))\n\n    return np.einsum('ti,tij->tj', features, rotations)\n",
      "metadata": {
        "trusted": true
      },
      "outputs": [],
      "execution_count": 15
    },
    {
      "cell_type": "markdown",
      "source": "## Defining model and training\n\nThe code below implement the MLP model. There are three layers with the input, 2 hidden columns of neurons, followed by the final layer to compute the output.\n\n- Input: flat dimension 784 (`= 28 * 28`) fed the greyscale image\n- Hidden layers: dimension 200 and 100 to compute image features\n- Output: dimension 10, logits for each label class\n\nAs we will see later, logits can be converted to actual probability by the softmax function. But for the purpose of picking the most confident class, we can just pick the label with max logit due to monotonicity.",
      "metadata": {}
    },
    {
      "cell_type": "code",
      "source": "\"\"\"A multi-layer perceptron for classification of MNIST handwritten digits.\"\"\"\nfrom __future__ import absolute_import, division\nfrom __future__ import print_function\nimport autograd.numpy as np\nimport autograd.numpy.random as npr\nfrom autograd.scipy.special import logsumexp\nfrom autograd import grad\nfrom autograd.misc.flatten import flatten\nfrom autograd.misc.optimizers import adam\n#from data import load_mnist\nimport time\n\n\ndef init_random_params(scale, layer_sizes, rs=npr.RandomState(0)):\n    \"\"\"Build a list of (weights, biases) tuples,\n       one for each layer in the net.\"\"\"\n    return [(scale * rs.randn(m, n),   # weight matrix\n             scale * rs.randn(n))      # bias vector\n            for m, n in zip(layer_sizes[:-1], layer_sizes[1:])]\n\ndef neural_net_predict(params, inputs):\n    \"\"\"Implements a deep neural network for classification.\n       params is a list of (weights, bias) tuples.\n       inputs is an (N x D) matrix.\n       returns normalized class log-probabilities.\"\"\"\n    for W, b in params:\n        outputs = np.dot(inputs, W) + b\n        inputs = np.tanh(outputs)\n    return outputs - logsumexp(outputs, axis=1, keepdims=True)\n\ndef l2_norm(params):\n    \"\"\"Computes l2 norm of params by flattening them into a vector.\"\"\"\n    flattened, _ = flatten(params)\n    return np.dot(flattened, flattened)\n\ndef log_posterior(params, inputs, targets, L2_reg):\n    log_prior = -L2_reg * l2_norm(params)\n    log_lik = np.sum(neural_net_predict(params, inputs) * targets)\n    return log_prior + log_lik\n\ndef accuracy(params, inputs, targets):\n    target_class    = np.argmax(targets, axis=1)\n    predicted_class = np.argmax(neural_net_predict(params, inputs), axis=1)\n    return np.mean(predicted_class == target_class)\n\n\n\n# Model parameters\nlayer_sizes = [784, 200, 100, 10]\nL2_reg = 1.0\n\n# Training parameters\nparam_scale = 0.1\nbatch_size = 256\nnum_epochs = 5\nstep_size = 0.001\n\nprint(\"Loading training data...\")\nN, train_images, train_labels, test_images,  test_labels = load_mnist()\n\ninit_params = init_random_params(param_scale, layer_sizes)\n\nnum_batches = int(np.ceil(len(train_images) / batch_size))\ndef batch_indices(iter):\n    idx = iter % num_batches\n    return slice(idx * batch_size, (idx+1) * batch_size)\n\n# Define training objective\ndef objective(params, iter):\n    idx = batch_indices(iter)\n    return -log_posterior(params, train_images[idx], train_labels[idx], L2_reg)\n\n# Get gradient of objective using autograd.\nobjective_grad = grad(objective)\n\nglobal timer_prev\ntimer_prev = 0\ntraining_logs = {\n    \"train_acc\": [],\n    \"test_acc\": [],\n    \"elapsed_time\": []\n}\ndef print_perf(params, iter, gradient):\n    global timer_prev\n    if iter % num_batches == 0:\n        train_acc = accuracy(params, train_images, train_labels)\n        test_acc  = accuracy(params, test_images, test_labels)\n        timer_cur = time.time()\n        elapsed_time = timer_cur - timer_prev\n        timer_prev = timer_cur\n        print(\"{:15}|{:20}|{:20}|{:20}\".format(iter//num_batches, train_acc, test_acc, elapsed_time))\n        training_logs[\"train_acc\"].append(train_acc)\n        training_logs[\"test_acc\"].append(test_acc)\n        training_logs[\"elapsed_time\"].append(elapsed_time)\n",
      "metadata": {
        "trusted": true
      },
      "outputs": [
        {
          "name": "stdout",
          "text": "Loading training data...\n",
          "output_type": "stream"
        }
      ],
      "execution_count": 23
    },
    {
      "cell_type": "markdown",
      "source": "Now let's train it! It will take some time as running compute in browser via wasm is about 10x slower than running natively, and we don't use GPU.",
      "metadata": {}
    },
    {
      "cell_type": "code",
      "source": "timer_prev = time.time()\nprint(\"     Epoch     |    Train accuracy  |       Test accuracy  \")\n# The optimizers provided can optimize lists, tuples, or dicts of parameters.\noptimized_params = adam(objective_grad, init_params, step_size=step_size,\n                            num_iters=num_epochs * num_batches, callback=print_perf)",
      "metadata": {
        "trusted": true
      },
      "outputs": [
        {
          "name": "stdout",
          "text": "     Epoch     |    Train accuracy  |       Test accuracy  \n              0| 0.06888333333333334|              0.0657|   15.05400013923645\n              1|             0.90525|              0.9105|   44.90299987792969\n              2|  0.9107833333333333|              0.9136|   43.98799991607666\n              3|  0.9164833333333333|               0.919|   42.91799998283386\n              4|  0.9217333333333333|              0.9248|  45.992000102996826\n",
          "output_type": "stream"
        }
      ],
      "execution_count": 25
    },
    {
      "cell_type": "markdown",
      "source": "With the training done, let's plot a graph showing how accuracy improved over the epoches.",
      "metadata": {}
    },
    {
      "cell_type": "code",
      "source": "import matplotlib.pyplot as plt\nimport numpy as nnp\n\nplt.plot(training_logs[\"train_acc\"], linestyle='dotted')\nplt.show()",
      "metadata": {
        "trusted": true
      },
      "outputs": [
        {
          "output_type": "display_data",
          "data": {
            "text/plain": "<Figure size 640x480 with 1 Axes>",
            "image/png": "[encoded data removed]"
          },
          "metadata": {}
        }
      ],
      "execution_count": 26
    },
    {
      "cell_type": "markdown",
      "source": "## Saving and loading model\n\n(This section is being worked on with the newer serialization program in later tutorial being back-ported.)",
      "metadata": {
        "jp-MarkdownHeadingCollapsed": true
      }
    },
    {
      "cell_type": "markdown",
      "source": "Because the trained params are currently in memory, if we reload the page or restart the kernel it will be gone. To make sure we don't lose the hard work, let's save the params, aka serialize it. We use numpy's serialization utility here.\n\nNotice that `optimized_params` have the format `List[Tuple[numpy.array]]`, where each item in the list correspond to the layers, the tuple represent weights and bias, and each entry is a numpy array.\n\nWe also disable pickle to be safe.",
      "metadata": {}
    },
    {
      "cell_type": "code",
      "source": "for i in range(3):\n    for j in range(2):\n        part_name = [\"weights\", \"bias\"]\n        print(\"Saving Layer {i} ({part}) of tensor shape {shape}\".format(i=i, part=part_name[j], shape=str(optimized_params[i][j].shape)))\n        with open(\"/drive/model-{i}-{j}.npy\".format(i=i, j=j), \"wb\") as f:\n            np.save(f, optimized_params[i][j], allow_pickle=False)",
      "metadata": {
        "trusted": true
      },
      "outputs": [
        {
          "name": "stdout",
          "text": "(784, 200)\n(200,)\n(200, 100)\n(100,)\n(100, 10)\n(10,)\n",
          "output_type": "stream"
        }
      ],
      "execution_count": 23
    },
    {
      "cell_type": "code",
      "source": "restored_params = [[None, None]] * 3\nfor i in range(3):\n    for j in range(2):\n        part_name = [\"weights\", \"bias\"]\n        print(\"Loading Layer {i} ({part}) tensor\".format(i=i, part=part_name[j]))\n        if i != 0 or j != 0:\n            with open(\"/drive/model-{i}-{j}.npy\".format(i=i, j=j), \"rb\") as f:\n                restored_params[i][j] = np.load(f, allow_pickle=False)",
      "metadata": {
        "trusted": true
      },
      "outputs": [
        {
          "name": "stdout",
          "text": "Loading Layer 0 (weights) tensor\nLoading Layer 0 (bias) tensor\nLoading Layer 1 (weights) tensor\nLoading Layer 1 (bias) tensor\nLoading Layer 2 (weights) tensor\nLoading Layer 2 (bias) tensor\n",
          "output_type": "stream"
        }
      ],
      "execution_count": 14
    },
    {
      "cell_type": "code",
      "source": "optimized_params = restored_params",
      "metadata": {
        "trusted": true
      },
      "outputs": [],
      "execution_count": 14
    },
    {
      "cell_type": "code",
      "source": "for i in range(3):\n    for j in range(2):\n        if i != 0 or j != 0:\n            print(restored_params[i][j].shape)",
      "metadata": {
        "trusted": true
      },
      "outputs": [
        {
          "name": "stdout",
          "text": "(10,)\n(100, 10)\n(10,)\n(100, 10)\n(10,)\n",
          "output_type": "stream"
        }
      ],
      "execution_count": 15
    },
    {
      "cell_type": "code",
      "source": "#restored_params[1][0].byteswap().newbyteorder()",
      "metadata": {
        "trusted": true
      },
      "outputs": [],
      "execution_count": null
    },
    {
      "cell_type": "code",
      "source": "import base64\nimport io\n\nnew_restored = {}\n\nfor i in range(3):\n    for j in range(2):\n        with open(\"model-{i}-{j}-new.txt\".format(i=i, j=j), \"r\") as f:\n            mybase = f.read()\n            a = io.BytesIO(base64.b64decode(mybase))\n            new_restored[\"layer{i}-{j}\".format(i=i, j=j)] = np.load(a, allow_pickle=False)",
      "metadata": {
        "trusted": true
      },
      "outputs": [],
      "execution_count": 32
    },
    {
      "cell_type": "code",
      "source": "for i in range(3):\n    for j in range(2):\n        print(new_restored[\"layer{i}-{j}\".format(i=i, j=j)].shape)",
      "metadata": {
        "trusted": true
      },
      "outputs": [
        {
          "name": "stdout",
          "text": "(784, 200)\n(200,)\n(200, 100)\n(100,)\n(100, 10)\n(10,)\n",
          "output_type": "stream"
        }
      ],
      "execution_count": 33
    },
    {
      "cell_type": "code",
      "source": "optimized_params = []\nfor i in range(3):\n    tmp = (new_restored[\"layer{i}-0\".format(i=i)], new_restored[\"layer{i}-1\".format(i=i)])\n    optimized_params.append(tmp)",
      "metadata": {
        "trusted": true
      },
      "outputs": [],
      "execution_count": 37
    },
    {
      "cell_type": "code",
      "source": "optimized_params[1][0].shape",
      "metadata": {
        "trusted": true
      },
      "outputs": [
        {
          "execution_count": 41,
          "output_type": "execute_result",
          "data": {
            "text/plain": "(200, 100)"
          },
          "metadata": {}
        }
      ],
      "execution_count": 41
    },
    {
      "cell_type": "markdown",
      "source": "## Inference\n\nWe now write a function that let us do inference on specific instance of the test set.\n\nWe also provide code snippet to visualize the image as well as the neural network's predicted probability distribution for each class label. Color is used to highlight the correct label.",
      "metadata": {}
    },
    {
      "cell_type": "code",
      "source": "def inference_test(params, idx):\n    logits = neural_net_predict(params, test_images[idx:idx+1,:])\n    predicted = np.argmax(logits)\n    actual = np.argmax(test_labels[idx])\n    return { \"logits\": logits, \"predicted\": predicted, \"actual\": actual, \"correct\": predicted == actual }",
      "metadata": {
        "trusted": true
      },
      "outputs": [],
      "execution_count": 27
    },
    {
      "cell_type": "code",
      "source": "inference_test(optimized_params, 4173)",
      "metadata": {
        "trusted": true
      },
      "outputs": [
        {
          "execution_count": 29,
          "output_type": "execute_result",
          "data": {
            "text/plain": "{'logits': array([[-6.52719079, -4.61786473, -0.99643756, -3.20247321, -0.94570821,\n         -4.77741586, -2.21237464, -7.95289054, -2.74644903, -4.82336449]]),\n 'predicted': 4,\n 'actual': 2,\n 'correct': False}"
          },
          "metadata": {}
        }
      ],
      "execution_count": 29
    },
    {
      "cell_type": "code",
      "source": "import numpy as nnp\ndef softmax(x):\n    e_x = nnp.exp(x - nnp.max(x))\n    return e_x / e_x.sum()\n\nsoftmax(inference_test(optimized_params, 1263)[\"logits\"][0])",
      "metadata": {
        "trusted": true
      },
      "outputs": [
        {
          "execution_count": 30,
          "output_type": "execute_result",
          "data": {
            "text/plain": "array([6.26956889e-05, 5.74115380e-03, 1.83833859e-02, 1.54688738e-02,\n       6.70705926e-01, 5.74568821e-05, 2.33160498e-03, 1.02720215e-01,\n       3.13575312e-03, 1.81392934e-01])"
          },
          "metadata": {}
        }
      ],
      "execution_count": 30
    },
    {
      "cell_type": "code",
      "source": "import matplotlib.pyplot as plt\n\nidx = 4204\nresults = inference_test(optimized_params, idx)\nc = [\"blue\"] * 10\nc[results[\"actual\"]] = \"green\"\nif not results[\"correct\"]:\n    c[results[\"predicted\"]] = \"red\"    \ncur_image = test_images[idx].reshape(28, 28)\nfig, (ax1, ax2) = plt.subplots(nrows=1, ncols=2)\nax1.imshow(cur_image, interpolation='none')\nax2.bar([str(x) for x in range(10)], softmax(results[\"logits\"][0]), color=c)\nplt.show()",
      "metadata": {
        "trusted": true
      },
      "outputs": [
        {
          "output_type": "display_data",
          "data": {
            "text/plain": "<Figure size 640x480 with 2 Axes>",
            "image/png": "[encoded data removed]"
          },
          "metadata": {}
        }
      ],
      "execution_count": 34
    },
    {
      "cell_type": "code",
      "source": "",
      "metadata": {
        "trusted": true
      },
      "outputs": [],
      "execution_count": null
    }
  ]
}