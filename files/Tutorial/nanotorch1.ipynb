{
  "metadata": {
    "kernelspec": {
      "name": "python",
      "display_name": "Python (Pyodide)",
      "language": "python"
    },
    "language_info": {
      "codemirror_mode": {
        "name": "python",
        "version": 3
      },
      "file_extension": ".py",
      "mimetype": "text/x-python",
      "name": "python",
      "nbconvert_exporter": "python",
      "pygments_lexer": "ipython3",
      "version": "3.8"
    }
  },
  "nbformat_minor": 4,
  "nbformat": 4,
  "cells": [
    {
      "cell_type": "code",
      "source": "import micropip\nawait micropip.install(\"scipy\")\nawait micropip.install(\"matplotlib\")\nawait micropip.install(\"pyodide-http\")\nawait micropip.install(\"autograd\")\n\nimport pyodide_http\npyodide_http.patch_all()\n\nfrom data import load_mnist\n\nimport autograd.numpy as np\nfrom autograd import grad\nimport numpy",
      "metadata": {
        "trusted": true
      },
      "outputs": [],
      "execution_count": 1
    },
    {
      "cell_type": "code",
      "source": "class nnParameter:\n    def __init__(self, val, requires_grad=True):\n        self.val = val\n        self.requires_grad = requires_grad\n        self.is_training = False\n\n    @property\n    def name(self):\n        return self._name\n\n    @name.setter\n    def name(self, value):\n        self._name = value\n\n    def value(self):\n        if self.is_training:\n            return self.rebinded\n        else:\n            return self.val\n\nclass OptimizerSGD:\n    def __init__(self, param_list, hyper_params):\n        self.param_list = param_list\n        self.hyper_params = hyper_params\n\n    def steps(self):\n        for param in self.param_list.values():\n            param.val -= self.hyper_params[\"lambda\"] * param.grad\n",
      "metadata": {
        "trusted": true
      },
      "outputs": [],
      "execution_count": 2
    },
    {
      "cell_type": "code",
      "source": "def join_path(prefix, path):\n    if len(prefix) == 0:\n        return path\n    else:\n        return prefix + \".\" + path\n\ndef flatten_path_rep(prefix, lst):\n    res = []\n    for i, x in enumerate(lst):\n        res.append((join_path(prefix, \"[{i}]\".format(i=i)), x))\n    return res\n\nclass nnModule:\n    def __init__(self):\n        self._cache = 123\n\n    def _get_attrs_filter(self, param=False, module=False, state=False):\n        internal = { \"_cache\" }\n        res = {}\n        for k, v in self.__dict__.items():\n            if k in internal:\n                continue\n            if isinstance(v, nnParameter) or \\\n                (isinstance(v, list) and all([isinstance(x, nnParameter) for x in v])):\n                if param:\n                    res[k] = v\n            elif isinstance(v, nnModule) or \\\n                (isinstance(v, list) and all([isinstance(x, nnModule) for x in v])):\n                if module:\n                    res[k] = v\n            elif state:\n                res[k] = v\n        return res\n    def _get_submodules(self, prefix=\"\"):\n        result = {}\n        for k, v in self._get_attrs_filter(module=True).items():\n            if isinstance(v, list):\n                for kp, vp in flatten_path_rep(k, v):\n                    result[join_path(prefix, kp)] = vp\n            else:\n                result[join_path(prefix, k)] = v\n        return result\n    \n    def get_parameters(self, nested=True, prefix=\"\"):\n        result = {}\n        for k, v in self._get_attrs_filter(param=True).items():\n            if isinstance(v, list):\n                for kp, vp in flatten_path_rep(k, v):\n                    result[join_path(prefix, kp)] = vp\n            else:\n                result[join_path(prefix, k)] = v\n        if nested:\n            submodule_params = [m.get_parameters(nested=True, prefix=path) \\\n                                for (path, m) in self._get_submodules().items()]\n            for submodule_param in submodule_params:\n                for k, v in submodule_param.items():\n                    result[join_path(prefix, k)] = v\n        return result\n\n    def _set_train(self, is_training):\n        for k, v in self.get_parameters(nested=True).items():\n            v.name = k\n            v.is_training = is_training\n            #v.grad = np.zeros(v.val.shape)\n\n    def backward(self, *inputs):\n        # Hack\n        self._set_train(True)\n        params = self.get_parameters(nested=True)\n        def rebind(ins):\n            for k, v in ins.items():\n                params[k].rebinded = v\n            return self.forward(*inputs)\n        params_cur_val = {}\n        for k, v in params.items():\n            params_cur_val[k] = v.val\n        for k, v in grad(rebind)(params_cur_val).items():\n            params[k].grad = v\n        self._set_train(False)\n\nclass Dev(nnModule):\n    def __init__(self, a, b, c):\n        super().__init__()\n        self.a = a\n        self.b = b\n        self.c = c\n\nclass MoreLayer(nnModule):\n    def __init__(self, n):\n        super().__init__()\n        self.end = False\n        self.sample = [nnParameter(val=i) for i in range(n)]\n\nobj_test3 = Dev(\"wait\", MoreLayer(2), { \"foo\": True, \"tester\": [5, 3, 1] })",
      "metadata": {
        "trusted": true
      },
      "outputs": [],
      "execution_count": 3
    },
    {
      "cell_type": "code",
      "source": "a = 3 * np.random.rand(2, 3)\nprint(a)\nprint(np.square(a).sum())",
      "metadata": {
        "trusted": true
      },
      "outputs": [
        {
          "name": "stdout",
          "text": "[[0.5767434  1.95773021 0.10695707]\n [0.38694269 1.12424922 1.81622001]]\n8.889096412740901\n",
          "output_type": "stream"
        }
      ],
      "execution_count": 6
    },
    {
      "cell_type": "code",
      "source": "np.sum(a)",
      "metadata": {
        "trusted": true
      },
      "outputs": [
        {
          "execution_count": 7,
          "output_type": "execute_result",
          "data": {
            "text/plain": "5.968842599907194"
          },
          "metadata": {}
        }
      ],
      "execution_count": 7
    },
    {
      "cell_type": "code",
      "source": "class L2Regularizer(nnModule):\n    def __init__(self, model, scale):\n        super().__init__()\n        self.model = model\n        self.scale = scale\n    def forward(self):\n        params = self.model.get_parameters(nested=True)\n        L2Norm = 0.0\n        for p in params.values():\n            L2Norm += np.square(p.value()).sum()\n        return self.scale * L2Norm\n\nclass CrossEntropyLoss(nnModule):\n    def __init__(self, model, regularizer):\n        super().__init__()\n        self.model = model\n        self.regularizer = regularizer\n    \n    def forward(self, ins, ans):\n        pred = self.model.forward(ins)\n        return np.sum(pred * -ans) + self.regularizer.forward()\n",
      "metadata": {
        "trusted": true
      },
      "outputs": [],
      "execution_count": 8
    },
    {
      "cell_type": "code",
      "source": "def nn_initializer(type, shape):\n    b = np.sqrt(6.0/(shape[0] + shape[1]))\n    return (np.random.rand(shape[0], shape[1]) - 0.5) * 2 * b\n\nclass LinearLayer(nnModule):\n    def __init__(self, shape, init='xavier'):\n        super().__init__()\n        self.shape = shape # (o, i)\n        self.w = nnParameter(val=nn_initializer('xavier', shape))\n        self.b = nnParameter(val=np.zeros(shape[1]))\n    def forward(self, x):\n        #print(x.shape)\n        #print(self.w.value().shape)\n        return np.matmul(x, self.w.value()) + self.b.value()\n\nclass ActivationFn(nnModule):\n    def __init__(self, type='tanh'):\n        super().__init__()\n        self.type = type\n    def forward(self, x):\n        return np.tanh(x)\n\nclass SoftMax(nnModule):\n    def __init__(self, return_logits=True):\n        super().__init__()\n        self.return_logits = return_logits\n    def forward(self, logits):\n        x = np.exp(logits)\n        if self.return_logits:\n            return logits - np.log(x.sum())\n        else:\n            return x/x.sum()\n\nclass Sequential(nnModule):\n    def __init__(self, layers):\n        super().__init__()\n        self.layers = layers\n    def forward(self, ins):\n        cur = ins\n        for layer in self.layers:\n            #print(layer.shape)\n            cur = layer.forward(cur)\n        return cur",
      "metadata": {
        "trusted": true
      },
      "outputs": [],
      "execution_count": 26
    },
    {
      "cell_type": "code",
      "source": "simple_nn = Sequential([\n    LinearLayer(shape=(784, 200)),\n    ActivationFn(),\n    LinearLayer(shape=(200, 100)),\n    ActivationFn(),\n    LinearLayer(shape=(100, 10)),\n    SoftMax()\n])\n\n# Model parameters\nlayer_sizes = [784, 200, 100, 10]\nL2_reg = 1.0\n\n# Training parameters\nparam_scale = 0.1\nbatch_size = 256\nnum_epochs = 5\nstep_size = 0.001\n\np_cnt = 0\nfor k, v in simple_nn.get_parameters().items():\n    print(\"{k}: Shape {s}\".format(k=k, s=v.val.shape))\n    p_cnt += np.array(v.val.shape).prod()\nprint(\"Total param = {t}\".format(t=p_cnt))\n\noptimizer = OptimizerSGD(simple_nn.get_parameters(), {\"lambda\": step_size})\n\nreg = L2Regularizer(simple_nn, L2_reg)\n\nloss = CrossEntropyLoss(simple_nn, reg)\n\n#data = np.random.randn(20, 2)\n#ans = np.sign(np.power(data[:, 0], 3) - data[:, 1])\n\n#data_validation = np.random.randn(10, 2)\n#ans_validation = np.sign(np.power(data_validation[:, 0], 3) - data_validation[:, 1])\n\nclass TestLoss(nnModule):\n    def __init__(self, model):\n        super().__init__()\n        self.model = model\n    def forward(self, ins, ans):\n        return (- self.model.forward(ins)[:,0] * ans).sum()\n\n#loss = SVMLoss(model_simple1)\n#loss = TestLoss(simple_nn)\n#print(\"Initial accuracy: {a}\".format(a=loss.accuracy(data, ans)))\n\n\nprint(\"Loading training data...\")\nN, train_images, train_labels, test_images,  test_labels = load_mnist()\n\nnum_batches = int(np.ceil(len(train_images) / batch_size))\ndef batch_indices(iter):\n    idx = iter % num_batches\n    return slice(idx * batch_size, (idx+1) * batch_size)\n",
      "metadata": {
        "trusted": true
      },
      "outputs": [
        {
          "name": "stdout",
          "text": "layers.[0].w: Shape (784, 200)\nlayers.[0].b: Shape (200,)\nlayers.[2].w: Shape (200, 100)\nlayers.[2].b: Shape (100,)\nlayers.[4].w: Shape (100, 10)\nlayers.[4].b: Shape (10,)\nTotal param = 178110\nLoading training data...\n",
          "output_type": "stream"
        }
      ],
      "execution_count": 27
    },
    {
      "cell_type": "code",
      "source": "import gc\ngc.collect()",
      "metadata": {
        "trusted": true
      },
      "outputs": [
        {
          "execution_count": 29,
          "output_type": "execute_result",
          "data": {
            "text/plain": "728"
          },
          "metadata": {}
        }
      ],
      "execution_count": 29
    },
    {
      "cell_type": "code",
      "source": "train_images[batch_indices(1)][45].shape",
      "metadata": {
        "trusted": true
      },
      "outputs": [
        {
          "execution_count": 17,
          "output_type": "execute_result",
          "data": {
            "text/plain": "(784,)"
          },
          "metadata": {}
        }
      ],
      "execution_count": 17
    },
    {
      "cell_type": "code",
      "source": "(train_images[batch_indices(num_batches-1)].shape, train_labels[batch_indices(num_batches-1)].shape)",
      "metadata": {
        "trusted": true
      },
      "outputs": [
        {
          "execution_count": 22,
          "output_type": "execute_result",
          "data": {
            "text/plain": "((96, 784), (96, 10))"
          },
          "metadata": {}
        }
      ],
      "execution_count": 22
    },
    {
      "cell_type": "code",
      "source": "num_batches",
      "metadata": {
        "trusted": true
      },
      "outputs": [
        {
          "execution_count": 23,
          "output_type": "execute_result",
          "data": {
            "text/plain": "235"
          },
          "metadata": {}
        }
      ],
      "execution_count": 23
    },
    {
      "cell_type": "code",
      "source": "metric = {\"acc\": [], \"loss\": [], \"val_acc\": []}\n\ndef acc(model, data, ans):\n    pred = np.argmax(model.forward(data), axis=1)\n    cor = np.argmax(ans, axis=1)\n    return np.mean(pred == cor)\n\nnum_epochs = 2\nfor e in range(num_epochs):\n    for i in range(num_batches):\n        data = train_images[batch_indices(i)]\n        ans = train_labels[batch_indices(i)]\n        loss.backward(data, ans)\n        optimizer.steps()\n        #print(test1.normal.val)\n        #a=loss.accuracy(data, ans)\n        l=loss.forward(data, ans)\n        #v=loss.accuracy(data_validation, ans_validation)\n        #metric[\"acc\"].append(a)\n        metric[\"loss\"].append(l)\n        #metric[\"val_acc\"].append(v)\n        v=0\n        a=0\n        if i % 10 == 0:\n            print(\"Accuracy = {a}, Loss = {l}, validation acc = {v}\".format(a=a, l=l, v=v))\n    acc_e = acc(simple_nn, train_images, train_labels)\n    print(\"Epoch acc = {e}\".format(e=acc_e))",
      "metadata": {
        "trusted": true
      },
      "outputs": [
        {
          "name": "stdout",
          "text": "Accuracy = 0, Loss = 1941.7547640737532, validation acc = 0\nAccuracy = 0, Loss = 1910.4864357686974, validation acc = 0\nAccuracy = 0, Loss = 1911.442404570611, validation acc = 0\nAccuracy = 0, Loss = 1898.195074589613, validation acc = 0\nAccuracy = 0, Loss = 1861.3622858490112, validation acc = 0\nAccuracy = 0, Loss = 1884.4701146756377, validation acc = 0\nAccuracy = 0, Loss = 1846.4098404270521, validation acc = 0\nAccuracy = 0, Loss = 1828.319720893759, validation acc = 0\nAccuracy = 0, Loss = 1834.6458925884601, validation acc = 0\nAccuracy = 0, Loss = 1818.4108056866369, validation acc = 0\nAccuracy = 0, Loss = 1806.6075898963995, validation acc = 0\nAccuracy = 0, Loss = 1808.0851828623413, validation acc = 0\nAccuracy = 0, Loss = 1804.9353543303002, validation acc = 0\nAccuracy = 0, Loss = 1799.318428157067, validation acc = 0\nAccuracy = 0, Loss = 1782.277813860713, validation acc = 0\nAccuracy = 0, Loss = 1778.7589577452306, validation acc = 0\nAccuracy = 0, Loss = 1758.5656727949472, validation acc = 0\nAccuracy = 0, Loss = 1746.144291987279, validation acc = 0\nAccuracy = 0, Loss = 1771.8351749877593, validation acc = 0\nAccuracy = 0, Loss = 1719.3277907658637, validation acc = 0\nAccuracy = 0, Loss = 1732.9253270510271, validation acc = 0\nAccuracy = 0, Loss = 1737.9203093431213, validation acc = 0\nAccuracy = 0, Loss = 1720.5019578397287, validation acc = 0\nAccuracy = 0, Loss = 1656.8355594555044, validation acc = 0\nEpoch acc = 0.9046166666666666\nAccuracy = 0, Loss = 1719.70685460609, validation acc = 0\nAccuracy = 0, Loss = 1702.45415036415, validation acc = 0\nAccuracy = 0, Loss = 1716.4488036006017, validation acc = 0\nAccuracy = 0, Loss = 1708.8514043763162, validation acc = 0\nAccuracy = 0, Loss = 1675.0435773307593, validation acc = 0\nAccuracy = 0, Loss = 1707.5747346553708, validation acc = 0\nAccuracy = 0, Loss = 1678.097899462455, validation acc = 0\nAccuracy = 0, Loss = 1668.471781898535, validation acc = 0\nAccuracy = 0, Loss = 1679.3945006293407, validation acc = 0\nAccuracy = 0, Loss = 1670.383094137354, validation acc = 0\nAccuracy = 0, Loss = 1667.023062757706, validation acc = 0\nAccuracy = 0, Loss = 1669.8734006084483, validation acc = 0\nAccuracy = 0, Loss = 1676.5420900566492, validation acc = 0\nAccuracy = 0, Loss = 1673.0407530348257, validation acc = 0\nAccuracy = 0, Loss = 1661.0687514140252, validation acc = 0\nAccuracy = 0, Loss = 1663.88737864473, validation acc = 0\nAccuracy = 0, Loss = 1650.45280140417, validation acc = 0\nAccuracy = 0, Loss = 1640.3041317769319, validation acc = 0\nAccuracy = 0, Loss = 1669.4584353307453, validation acc = 0\nAccuracy = 0, Loss = 1622.1838172322334, validation acc = 0\nAccuracy = 0, Loss = 1638.897199222119, validation acc = 0\nAccuracy = 0, Loss = 1647.721802938827, validation acc = 0\nAccuracy = 0, Loss = 1635.0857657682232, validation acc = 0\nAccuracy = 0, Loss = 1577.7557671159648, validation acc = 0\nEpoch acc = 0.9108166666666667\n",
          "output_type": "stream"
        }
      ],
      "execution_count": 31
    },
    {
      "cell_type": "code",
      "source": "def eval_instance(i):\n    a = simple_nn.forward(test_images[i])\n    return {\"predicted\": np.argmax(a), \"actual\": np.argmax(test_labels[i]), \"correct\": np.argmax(test_labels[i]) == np.argmax(a), \"logits\": a}",
      "metadata": {
        "trusted": true
      },
      "outputs": [],
      "execution_count": 39
    },
    {
      "cell_type": "code",
      "source": "eval_instance(3419)",
      "metadata": {
        "trusted": true
      },
      "outputs": [
        {
          "execution_count": 37,
          "output_type": "execute_result",
          "data": {
            "text/plain": "(1, 1)"
          },
          "metadata": {}
        }
      ],
      "execution_count": 37
    },
    {
      "cell_type": "code",
      "source": "import matplotlib.pyplot as plt\n\nidx = 5103\nresults = eval_instance(idx)\nc = [\"blue\"] * 10\nc[results[\"actual\"]] = \"green\"\nif not results[\"correct\"]:\n    c[results[\"predicted\"]] = \"red\"    \ncur_image = test_images[idx].reshape(28, 28)\nfig, (ax1, ax2) = plt.subplots(nrows=1, ncols=2)\nax1.imshow(cur_image, interpolation='none')\nax2.bar([str(x) for x in range(10)], results[\"logits\"], color=c)\nplt.show()",
      "metadata": {
        "trusted": true
      },
      "outputs": [
        {
          "output_type": "display_data",
          "data": {
            "text/plain": "<Figure size 640x480 with 2 Axes>",
            "image/png": "[encoded data removed]"
          },
          "metadata": {}
        }
      ],
      "execution_count": 49
    }
  ]
}