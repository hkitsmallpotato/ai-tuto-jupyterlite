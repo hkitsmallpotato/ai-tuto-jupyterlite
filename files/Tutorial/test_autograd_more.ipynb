{
  "metadata": {
    "kernelspec": {
      "name": "python",
      "display_name": "Python (Pyodide)",
      "language": "python"
    },
    "language_info": {
      "codemirror_mode": {
        "name": "python",
        "version": 3
      },
      "file_extension": ".py",
      "mimetype": "text/x-python",
      "name": "python",
      "nbconvert_exporter": "python",
      "pygments_lexer": "ipython3",
      "version": "3.8"
    }
  },
  "nbformat_minor": 4,
  "nbformat": 4,
  "cells": [
    {
      "cell_type": "code",
      "source": "import autograd.numpy as np\nfrom autograd import grad\nimport numpy",
      "metadata": {
        "trusted": true
      },
      "outputs": [],
      "execution_count": 103
    },
    {
      "cell_type": "code",
      "source": "def basic(x):\n    return np.dot(np.array([1.0, 2.0, 5.0, -6.0]), x * x)\n\ngrad(basic)(np.array([0, -1, 2, 0]))",
      "metadata": {
        "trusted": true
      },
      "outputs": [
        {
          "execution_count": 5,
          "output_type": "execute_result",
          "data": {
            "text/plain": "array([ 0, -4, 20,  0])"
          },
          "metadata": {}
        }
      ],
      "execution_count": 5
    },
    {
      "cell_type": "code",
      "source": "class Simp:\n    def __init__(self, param, param2):\n        self.myparam = param\n        self.myparam2 = param2\n\n    def forward(self, x):\n        return np.dot(x, self.myparam * self.myparam + np.cos(self.myparam2))\n\nmyclass = Simp(np.array([0, -1, 2, 0]), np.array([np.pi/2, 0, 0, 0]))",
      "metadata": {
        "trusted": true
      },
      "outputs": [],
      "execution_count": 22
    },
    {
      "cell_type": "code",
      "source": "np.pi",
      "metadata": {
        "trusted": true
      },
      "outputs": [
        {
          "execution_count": 19,
          "output_type": "execute_result",
          "data": {
            "text/plain": "3.141592653589793"
          },
          "metadata": {}
        }
      ],
      "execution_count": 19
    },
    {
      "cell_type": "code",
      "source": "myclass.forward(np.array([1.0, 2.0, 5.0, -6.0]))",
      "metadata": {
        "trusted": true
      },
      "outputs": [
        {
          "execution_count": 23,
          "output_type": "execute_result",
          "data": {
            "text/plain": "23.0"
          },
          "metadata": {}
        }
      ],
      "execution_count": 23
    },
    {
      "cell_type": "code",
      "source": "def rebind(p):\n    myclass.myparam = p[\"foo\"]\n    myclass.myparam2 = p[\"bar\"]\n    return myclass.forward(np.array([1.0, 2.0, 5.0, -6.0]))\n\ngrad(rebind)({ \"foo\": np.array([0, -1, 2, 2.5]),\n               \"bar\": np.array([np.pi/2, 0, 0, 0]) })",
      "metadata": {
        "trusted": true
      },
      "outputs": [
        {
          "execution_count": 28,
          "output_type": "execute_result",
          "data": {
            "text/plain": "{'foo': array([  0.,  -4.,  20., -30.]), 'bar': array([-1.,  0.,  0.,  0.])}"
          },
          "metadata": {}
        }
      ],
      "execution_count": 28
    },
    {
      "cell_type": "code",
      "source": "myclass.myparam",
      "metadata": {
        "trusted": true
      },
      "outputs": [
        {
          "execution_count": 29,
          "output_type": "execute_result",
          "data": {
            "text/plain": "<autograd.numpy.numpy_boxes.ArrayBox at 0x38b3878>"
          },
          "metadata": {}
        }
      ],
      "execution_count": 29
    },
    {
      "cell_type": "code",
      "source": "a = np.numpy_boxes.ArrayBox(value=numpy.array([1, 2, 3]))",
      "metadata": {
        "trusted": true
      },
      "outputs": [
        {
          "ename": "<class 'TypeError'>",
          "evalue": "Box.__init__() missing 2 required positional arguments: 'trace' and 'node'",
          "traceback": [
            "\u001b[0;31m---------------------------------------------------------------------------\u001b[0m",
            "\u001b[0;31mTypeError\u001b[0m                                 Traceback (most recent call last)",
            "Cell \u001b[0;32mIn[36], line 1\u001b[0m\n\u001b[0;32m----> 1\u001b[0m a \u001b[38;5;241m=\u001b[39m \u001b[43mnp\u001b[49m\u001b[38;5;241;43m.\u001b[39;49m\u001b[43mnumpy_boxes\u001b[49m\u001b[38;5;241;43m.\u001b[39;49m\u001b[43mArrayBox\u001b[49m\u001b[43m(\u001b[49m\u001b[43mvalue\u001b[49m\u001b[38;5;241;43m=\u001b[39;49m\u001b[43mnumpy\u001b[49m\u001b[38;5;241;43m.\u001b[39;49m\u001b[43marray\u001b[49m\u001b[43m(\u001b[49m\u001b[43m[\u001b[49m\u001b[38;5;241;43m1\u001b[39;49m\u001b[43m,\u001b[49m\u001b[43m \u001b[49m\u001b[38;5;241;43m2\u001b[39;49m\u001b[43m,\u001b[49m\u001b[43m \u001b[49m\u001b[38;5;241;43m3\u001b[39;49m\u001b[43m]\u001b[49m\u001b[43m)\u001b[49m\u001b[43m)\u001b[49m\n",
            "\u001b[0;31mTypeError\u001b[0m: Box.__init__() missing 2 required positional arguments: 'trace' and 'node'"
          ],
          "output_type": "error"
        }
      ],
      "execution_count": 36
    },
    {
      "cell_type": "markdown",
      "source": "Some experiments on introspection",
      "metadata": {}
    },
    {
      "cell_type": "code",
      "source": "class Foo:\n    def __init__(self, a):\n        self.bar = True\n        self.test = a\n        self.more = [1, 2, 3]\n\nclass Baz:\n    def __init__(self):\n        self.hey = False\n        self.nest = Foo(a = \"hello\")\n        self.m = dict(w=45, y=\"ee\")\n\nobj_test1 = Baz()",
      "metadata": {
        "trusted": true
      },
      "outputs": [],
      "execution_count": 1
    },
    {
      "cell_type": "code",
      "source": "obj_test1.__dict__",
      "metadata": {
        "trusted": true
      },
      "outputs": [
        {
          "execution_count": 2,
          "output_type": "execute_result",
          "data": {
            "text/plain": "{'hey': False, 'nest': <__main__.Foo at 0x14e5bf8>, 'm': {'w': 45, 'y': 'ee'}}"
          },
          "metadata": {}
        }
      ],
      "execution_count": 2
    },
    {
      "cell_type": "code",
      "source": "dir(obj_test1)",
      "metadata": {
        "trusted": true
      },
      "outputs": [
        {
          "execution_count": 3,
          "output_type": "execute_result",
          "data": {
            "text/plain": "['__class__',\n '__delattr__',\n '__dict__',\n '__dir__',\n '__doc__',\n '__eq__',\n '__format__',\n '__ge__',\n '__getattribute__',\n '__getstate__',\n '__gt__',\n '__hash__',\n '__init__',\n '__init_subclass__',\n '__le__',\n '__lt__',\n '__module__',\n '__ne__',\n '__new__',\n '__reduce__',\n '__reduce_ex__',\n '__repr__',\n '__setattr__',\n '__sizeof__',\n '__str__',\n '__subclasshook__',\n '__weakref__',\n 'hey',\n 'm',\n 'nest']"
          },
          "metadata": {}
        }
      ],
      "execution_count": 3
    },
    {
      "cell_type": "code",
      "source": "from inspect import getmembers\n\ngetmembers(obj_test1)",
      "metadata": {
        "trusted": true
      },
      "outputs": [
        {
          "execution_count": 4,
          "output_type": "execute_result",
          "data": {
            "text/plain": "[('__class__', __main__.Baz),\n ('__delattr__', <method-wrapper '__delattr__' of Baz object at 0x229e618>),\n ('__dict__',\n  {'hey': False,\n   'nest': <__main__.Foo at 0x14e5bf8>,\n   'm': {'w': 45, 'y': 'ee'}}),\n ('__dir__', <function Baz.__dir__()>),\n ('__doc__', None),\n ('__eq__', <method-wrapper '__eq__' of Baz object at 0x229e618>),\n ('__format__', <function Baz.__format__(format_spec, /)>),\n ('__ge__', <method-wrapper '__ge__' of Baz object at 0x229e618>),\n ('__getattribute__',\n  <method-wrapper '__getattribute__' of Baz object at 0x229e618>),\n ('__getstate__', <function Baz.__getstate__()>),\n ('__gt__', <method-wrapper '__gt__' of Baz object at 0x229e618>),\n ('__hash__', <method-wrapper '__hash__' of Baz object at 0x229e618>),\n ('__init__',\n  <bound method Baz.__init__ of <__main__.Baz object at 0x229e618>>),\n ('__init_subclass__', <function Baz.__init_subclass__>),\n ('__le__', <method-wrapper '__le__' of Baz object at 0x229e618>),\n ('__lt__', <method-wrapper '__lt__' of Baz object at 0x229e618>),\n ('__module__', '__main__'),\n ('__ne__', <method-wrapper '__ne__' of Baz object at 0x229e618>),\n ('__new__', <function object.__new__(*args, **kwargs)>),\n ('__reduce__', <function Baz.__reduce__()>),\n ('__reduce_ex__', <function Baz.__reduce_ex__(protocol, /)>),\n ('__repr__', <method-wrapper '__repr__' of Baz object at 0x229e618>),\n ('__setattr__', <method-wrapper '__setattr__' of Baz object at 0x229e618>),\n ('__sizeof__', <function Baz.__sizeof__()>),\n ('__str__', <method-wrapper '__str__' of Baz object at 0x229e618>),\n ('__subclasshook__', <function Baz.__subclasshook__>),\n ('__weakref__', None),\n ('hey', False),\n ('m', {'w': 45, 'y': 'ee'}),\n ('nest', <__main__.Foo at 0x14e5bf8>)]"
          },
          "metadata": {}
        }
      ],
      "execution_count": 4
    },
    {
      "cell_type": "code",
      "source": "class ThisInherit(Baz):\n    def __init__(self, c):\n        #super().__init__()\n        self.hey = True\n        self.c = c\n        self.__hidden__ = 123\n\nobj_test2 = ThisInherit([23, 4])",
      "metadata": {
        "trusted": true
      },
      "outputs": [],
      "execution_count": 17
    },
    {
      "cell_type": "code",
      "source": "obj_test2.__dict__",
      "metadata": {
        "trusted": true
      },
      "outputs": [
        {
          "execution_count": 18,
          "output_type": "execute_result",
          "data": {
            "text/plain": "{'hey': True, 'c': [23, 4], '__hidden__': 123}"
          },
          "metadata": {}
        }
      ],
      "execution_count": 18
    },
    {
      "cell_type": "code",
      "source": "obj_test1.nest.__dict__",
      "metadata": {
        "trusted": true
      },
      "outputs": [
        {
          "execution_count": 14,
          "output_type": "execute_result",
          "data": {
            "text/plain": "{'bar': True, 'test': 'hello', 'more': [1, 2, 3]}"
          },
          "metadata": {}
        }
      ],
      "execution_count": 14
    },
    {
      "cell_type": "markdown",
      "source": "## Test nn lib",
      "metadata": {}
    },
    {
      "cell_type": "code",
      "source": "numpy.zeros((2, 3))",
      "metadata": {
        "trusted": true
      },
      "outputs": [
        {
          "execution_count": 106,
          "output_type": "execute_result",
          "data": {
            "text/plain": "array([[0., 0., 0.],\n       [0., 0., 0.]])"
          },
          "metadata": {}
        }
      ],
      "execution_count": 106
    },
    {
      "cell_type": "code",
      "source": "#a = numpy.ones((2,3))\na += numpy.random.rand(2,3)\na",
      "metadata": {
        "trusted": true
      },
      "outputs": [
        {
          "execution_count": 124,
          "output_type": "execute_result",
          "data": {
            "text/plain": "array([[ 7.90280371,  8.6283937 ,  8.23439221],\n       [ 9.04852471, 10.07940354,  9.69933485]])"
          },
          "metadata": {}
        }
      ],
      "execution_count": 124
    },
    {
      "cell_type": "code",
      "source": "class nnParameter:\n    def __init__(self, val, requires_grad=True):\n        self.val = val\n        self.requires_grad = requires_grad\n        self.is_training = False\n\n    @property\n    def name(self):\n        return self._name\n\n    @name.setter\n    def name(self, value):\n        self._name = value\n\n    def value(self):\n        if self.is_training:\n            return self.rebinded\n        else:\n            return self.val\n\nclass OptimizerSGD:\n    def __init__(self, param_list, hyper_params):\n        self.param_list = param_list\n        self.hyper_params = hyper_params\n\n    def steps(self):\n        for param in self.param_list.values():\n            param.val -= self.hyper_params[\"lambda\"] * param.grad\n",
      "metadata": {
        "trusted": true
      },
      "outputs": [],
      "execution_count": 126
    },
    {
      "cell_type": "code",
      "source": "def join_path(prefix, path):\n    if len(prefix) == 0:\n        return path\n    else:\n        return prefix + \".\" + path\n\ndef flatten_path_rep(prefix, lst):\n    res = []\n    for i, x in enumerate(lst):\n        res.append((join_path(prefix, \"[{i}]\".format(i=i)), x))\n    return res\n\nclass nnModule:\n    def __init__(self):\n        self._cache = 123\n\n    def _get_attrs_filter(self, param=False, module=False, state=False):\n        internal = { \"_cache\" }\n        res = {}\n        for k, v in self.__dict__.items():\n            if k in internal:\n                continue\n            if isinstance(v, nnParameter) or \\\n                (isinstance(v, list) and all([isinstance(x, nnParameter) for x in v])):\n                if param:\n                    res[k] = v\n            elif isinstance(v, nnModule) or \\\n                (isinstance(v, list) and all([isinstance(x, nnModule) for x in v])):\n                if module:\n                    res[k] = v\n            elif state:\n                res[k] = v\n        return res\n    def _get_submodules(self, prefix=\"\"):\n        result = {}\n        for k, v in self._get_attrs_filter(module=True).items():\n            if isinstance(v, list):\n                for kp, vp in flatten_path_rep(k, v):\n                    result[join_path(prefix, kp)] = vp\n            else:\n                result[join_path(prefix, k)] = v\n        return result\n    \n    def get_parameters(self, nested=True, prefix=\"\"):\n        result = {}\n        for k, v in self._get_attrs_filter(param=True).items():\n            if isinstance(v, list):\n                for kp, vp in flatten_path_rep(k, v):\n                    result[join_path(prefix, kp)] = vp\n            else:\n                result[join_path(prefix, k)] = v\n        if nested:\n            submodule_params = [m.get_parameters(nested=True, prefix=path) \\\n                                for (path, m) in self._get_submodules().items()]\n            for submodule_param in submodule_params:\n                for k, v in submodule_param.items():\n                    result[join_path(prefix, k)] = v\n        return result\n\n    def _set_train(self, is_training):\n        for k, v in self.get_parameters(nested=True).items():\n            v.name = k\n            v.is_training = is_training\n            #v.grad = np.zeros(v.val.shape)\n\n    def backward(self, *inputs):\n        # Hack\n        self._set_train(True)\n        params = self.get_parameters(nested=True)\n        def rebind(ins):\n            for k, v in ins.items():\n                params[k].rebinded = v\n            return self.forward(*inputs)\n        params_cur_val = {}\n        for k, v in params.items():\n            params_cur_val[k] = v.val\n        for k, v in grad(rebind)(params_cur_val).items():\n            params[k].grad = v\n        self._set_train(False)\n\nclass Dev(nnModule):\n    def __init__(self, a, b, c):\n        super().__init__()\n        self.a = a\n        self.b = b\n        self.c = c\n\nclass MoreLayer(nnModule):\n    def __init__(self, n):\n        super().__init__()\n        self.end = False\n        self.sample = [nnParameter(val=i) for i in range(n)]\n\nobj_test3 = Dev(\"wait\", MoreLayer(2), { \"foo\": True, \"tester\": [5, 3, 1] })",
      "metadata": {
        "trusted": true
      },
      "outputs": [],
      "execution_count": 224
    },
    {
      "cell_type": "code",
      "source": "obj_test3._get_attrs_filter(True, False, True)",
      "metadata": {
        "trusted": true
      },
      "outputs": [
        {
          "execution_count": 46,
          "output_type": "execute_result",
          "data": {
            "text/plain": "{'a': 'wait', 'c': {'foo': True, 'tester': [5, 3, 1]}}"
          },
          "metadata": {}
        }
      ],
      "execution_count": 46
    },
    {
      "cell_type": "code",
      "source": "isinstance(obj_test3, nnModule)",
      "metadata": {
        "trusted": true
      },
      "outputs": [
        {
          "execution_count": 26,
          "output_type": "execute_result",
          "data": {
            "text/plain": "True"
          },
          "metadata": {}
        }
      ],
      "execution_count": 26
    },
    {
      "cell_type": "code",
      "source": "obj_test4 = Dev([123, \"char\"], [MoreLayer(2), MoreLayer(1)], { \"foo\": True, \"tester\": [5, 3, 1] })",
      "metadata": {
        "trusted": true
      },
      "outputs": [],
      "execution_count": 48
    },
    {
      "cell_type": "code",
      "source": "obj_test4._get_attrs_filter(True, True, False)",
      "metadata": {
        "trusted": true
      },
      "outputs": [
        {
          "execution_count": 49,
          "output_type": "execute_result",
          "data": {
            "text/plain": "{'b': [<__main__.MoreLayer at 0x2905570>, <__main__.MoreLayer at 0x28b3820>]}"
          },
          "metadata": {}
        }
      ],
      "execution_count": 49
    },
    {
      "cell_type": "code",
      "source": "obj_test5 = Dev(nnParameter(val=[1,3]), [MoreLayer(2), MoreLayer(5)], { \"foo\": True, \"tester\": [5, 3, 1] })",
      "metadata": {
        "trusted": true
      },
      "outputs": [],
      "execution_count": 97
    },
    {
      "cell_type": "code",
      "source": "obj_test5._get_attrs_filter(module=True)",
      "metadata": {
        "trusted": true
      },
      "outputs": [
        {
          "execution_count": 85,
          "output_type": "execute_result",
          "data": {
            "text/plain": "{'b': [<__main__.MoreLayer at 0x278ff18>, <__main__.MoreLayer at 0x2858ec0>]}"
          },
          "metadata": {}
        }
      ],
      "execution_count": 85
    },
    {
      "cell_type": "code",
      "source": "obj_test5._get_submodules(prefix=\"aa\")",
      "metadata": {
        "trusted": true
      },
      "outputs": [
        {
          "execution_count": 86,
          "output_type": "execute_result",
          "data": {
            "text/plain": "{'aa.b.[0]': <__main__.MoreLayer at 0x278ff18>,\n 'aa.b.[1]': <__main__.MoreLayer at 0x2858ec0>}"
          },
          "metadata": {}
        }
      ],
      "execution_count": 86
    },
    {
      "cell_type": "code",
      "source": "obj_test5.get_parameters(nested=True)",
      "metadata": {
        "trusted": true
      },
      "outputs": [
        {
          "execution_count": 98,
          "output_type": "execute_result",
          "data": {
            "text/plain": "{'a': <__main__.nnParameter at 0x2274cc8>,\n 'b.[0].sample.[0]': <__main__.nnParameter at 0x28beaa0>,\n 'b.[0].sample.[1]': <__main__.nnParameter at 0x28beb88>,\n 'b.[1].sample.[0]': <__main__.nnParameter at 0x28bf8f0>,\n 'b.[1].sample.[1]': <__main__.nnParameter at 0x221c4b8>,\n 'b.[1].sample.[2]': <__main__.nnParameter at 0x2216828>,\n 'b.[1].sample.[3]': <__main__.nnParameter at 0x27a8f10>,\n 'b.[1].sample.[4]': <__main__.nnParameter at 0x285a1d8>}"
          },
          "metadata": {}
        }
      ],
      "execution_count": 98
    },
    {
      "cell_type": "code",
      "source": "flatten_path_rep(\"d\", [1, True, \"hi\"])",
      "metadata": {
        "trusted": true
      },
      "outputs": [
        {
          "execution_count": 75,
          "output_type": "execute_result",
          "data": {
            "text/plain": "[('d.[0]', 1), ('d.[1]', True), ('d.[2]', 'hi')]"
          },
          "metadata": {}
        }
      ],
      "execution_count": 75
    },
    {
      "cell_type": "code",
      "source": "obj_test5.begin_train()",
      "metadata": {
        "trusted": true
      },
      "outputs": [],
      "execution_count": 99
    },
    {
      "cell_type": "code",
      "source": "for v in obj_test5.get_parameters(nested=True).values():\n    print(v.name)",
      "metadata": {
        "trusted": true
      },
      "outputs": [
        {
          "name": "stdout",
          "text": "a\nb.[0].sample.[0]\nb.[0].sample.[1]\nb.[1].sample.[0]\nb.[1].sample.[1]\nb.[1].sample.[2]\nb.[1].sample.[3]\nb.[1].sample.[4]\n",
          "output_type": "stream"
        }
      ],
      "execution_count": 101
    },
    {
      "cell_type": "code",
      "source": "class SmokeTest(nnModule):\n    def __init__(self, dim):\n        super().__init__()\n        self.dim = dim\n        self.normal = nnParameter(val=2 * np.random.rand(dim) - 1.0)\n\n    def forward(self, data, ans):\n        # data.shape == (batch, dim), ans.shape == (batch,)\n        pred = np.matmul(data, self.normal.value())\n        return np.tanh(pred * -ans).sum() #neg becoz loss fn min\n\n    def acc(self, data, ans):\n        #print(data)\n        #print(self.normal.value())\n        pred = np.matmul(data, self.normal.value())\n        #print(pred)\n        cor = (pred * ans > 0).tolist()\n        #print(cor)\n        cnt = 0\n        for _ in filter(lambda x: x, cor):\n            cnt += 1\n        return cnt/ans.shape[0]",
      "metadata": {
        "trusted": true
      },
      "outputs": [],
      "execution_count": 230
    },
    {
      "cell_type": "code",
      "source": "x = 2 * np.random.rand(4) - 1.0",
      "metadata": {
        "trusted": true
      },
      "outputs": [],
      "execution_count": 130
    },
    {
      "cell_type": "code",
      "source": "res = np.matmul( np.array([[0, 0, 1, 0], [0, 1, 0, 0]]), x)\nres",
      "metadata": {
        "trusted": true
      },
      "outputs": [
        {
          "execution_count": 139,
          "output_type": "execute_result",
          "data": {
            "text/plain": "array([-0.16968406,  0.80101805])"
          },
          "metadata": {}
        }
      ],
      "execution_count": 139
    },
    {
      "cell_type": "code",
      "source": "x",
      "metadata": {
        "trusted": true
      },
      "outputs": [
        {
          "execution_count": 136,
          "output_type": "execute_result",
          "data": {
            "text/plain": "array([-0.07607719,  0.80101805, -0.16968406, -0.27358875])"
          },
          "metadata": {}
        }
      ],
      "execution_count": 136
    },
    {
      "cell_type": "code",
      "source": "np.tanh(res * -np.array([1, -1]) )",
      "metadata": {
        "trusted": true
      },
      "outputs": [
        {
          "execution_count": 151,
          "output_type": "execute_result",
          "data": {
            "text/plain": "array([0.16807405, 0.66460553])"
          },
          "metadata": {}
        }
      ],
      "execution_count": 151
    },
    {
      "cell_type": "code",
      "source": "np.tanh(7)",
      "metadata": {
        "trusted": true
      },
      "outputs": [
        {
          "execution_count": 147,
          "output_type": "execute_result",
          "data": {
            "text/plain": "0.9999983369439447"
          },
          "metadata": {}
        }
      ],
      "execution_count": 147
    },
    {
      "cell_type": "code",
      "source": "truth = np.array([2.0, -1.0, 3.0, 0.4])\n\ntest1 = SmokeTest(4)\noptimizer = OptimizerSGD(test1.get_parameters(), {\"lambda\": 0.03})\n\ndata = np.random.randn(6, 4)\nans = np.sign(np.matmul(data, truth))",
      "metadata": {
        "trusted": true
      },
      "outputs": [],
      "execution_count": 243
    },
    {
      "cell_type": "code",
      "source": "np.sign(np.array([2, -9, 3]))",
      "metadata": {
        "trusted": true
      },
      "outputs": [
        {
          "execution_count": 155,
          "output_type": "execute_result",
          "data": {
            "text/plain": "array([ 1, -1,  1])"
          },
          "metadata": {}
        }
      ],
      "execution_count": 155
    },
    {
      "cell_type": "code",
      "source": "test1.get_parameters()",
      "metadata": {
        "trusted": true
      },
      "outputs": [
        {
          "execution_count": 177,
          "output_type": "execute_result",
          "data": {
            "text/plain": "{'normal': <__main__.nnParameter at 0x3a44f98>}"
          },
          "metadata": {}
        }
      ],
      "execution_count": 177
    },
    {
      "cell_type": "code",
      "source": "cnt = 0\nfor x in filter(lambda x: x, [True, False, True]):\n    cnt += 1\ncnt",
      "metadata": {
        "trusted": true
      },
      "outputs": [
        {
          "execution_count": 166,
          "output_type": "execute_result",
          "data": {
            "text/plain": "2"
          },
          "metadata": {}
        }
      ],
      "execution_count": 166
    },
    {
      "cell_type": "code",
      "source": "print(ans)\ntest1.acc(data, ans)",
      "metadata": {
        "trusted": true
      },
      "outputs": [
        {
          "name": "stdout",
          "text": "[-1. -1. -1. -1.  1.  1.]\n",
          "output_type": "stream"
        },
        {
          "execution_count": 247,
          "output_type": "execute_result",
          "data": {
            "text/plain": "0.8333333333333334"
          },
          "metadata": {}
        }
      ],
      "execution_count": 247
    },
    {
      "cell_type": "code",
      "source": "np.array([True, False, False]).tolist()",
      "metadata": {
        "trusted": true
      },
      "outputs": [
        {
          "execution_count": 193,
          "output_type": "execute_result",
          "data": {
            "text/plain": "[True, False, False]"
          },
          "metadata": {}
        }
      ],
      "execution_count": 193
    },
    {
      "cell_type": "code",
      "source": "test1.forward(data, ans)",
      "metadata": {
        "trusted": true
      },
      "outputs": [
        {
          "execution_count": 228,
          "output_type": "execute_result",
          "data": {
            "text/plain": "4.000921491071027"
          },
          "metadata": {}
        }
      ],
      "execution_count": 228
    },
    {
      "cell_type": "code",
      "source": "#test1.begin_train()\nfor i in range(10):\n    test1.backward(data, ans)\n    optimizer.steps()\n    print(test1.normal.val)\n    print(\"Accuracy = {a}, Loss = {l}\".format(a=test1.acc(data, ans), l=test1.forward(data, ans)))\n#test1.normal.is_training = False",
      "metadata": {
        "trusted": true
      },
      "outputs": [
        {
          "name": "stdout",
          "text": "[-0.51813984  0.73946618 -0.16055203 -0.13628232]\nAccuracy = 0.3333333333333333, Loss = 1.2947193412408353\n[-0.41265391  0.80178576 -0.067668   -0.12686416]\nAccuracy = 0.3333333333333333, Loss = 0.49509256165063453\n[-0.30376404  0.84861174  0.03640166 -0.11990827]\nAccuracy = 0.5, Loss = -0.33814505003805784\n[-0.19479978  0.88045697  0.14582196 -0.12080801]\nAccuracy = 0.5, Loss = -1.144473599487224\n[-0.09190962  0.89823853  0.24985909 -0.13597178]\nAccuracy = 0.8333333333333334, Loss = -1.8415696991063624\n[ 0.00144239  0.90519261  0.34152757 -0.16363821]\nAccuracy = 0.8333333333333334, Loss = -2.4052429829186743\n[ 0.0848019   0.90537279  0.41901857 -0.19635773]\nAccuracy = 0.8333333333333334, Loss = -2.842554696206119\n[ 0.15891009  0.90158563  0.48296806 -0.22825622]\nAccuracy = 0.8333333333333334, Loss = -3.172621669000322\n[ 0.22519589  0.89530266  0.53521791 -0.25678973]\nAccuracy = 0.8333333333333334, Loss = -3.421629353383764\n[ 0.28530882  0.88721396  0.57792426 -0.28150431]\nAccuracy = 0.8333333333333334, Loss = -3.6139090657599815\n",
          "output_type": "stream"
        }
      ],
      "execution_count": 245
    },
    {
      "cell_type": "code",
      "source": "test1.acc(data, ans)",
      "metadata": {
        "trusted": true
      },
      "outputs": [
        {
          "name": "stdout",
          "text": "[[-2.28110773 -0.7946544   1.04796555 -1.17221435]\n [ 0.82753048  0.32479012  2.36104631  0.44340186]\n [-2.57246766  2.43964146  0.68786582  0.93786762]\n [-1.10686473 -0.27183278 -0.06519362  1.05946001]\n [-1.42938762  1.37221953 -0.86495743  0.08161422]\n [ 0.52664976  0.2485244  -0.50011686 -1.43185403]]\n[-0.05068363 -0.88155143  0.38249275 -0.16239349]\n[ 1.40734277  0.50281607 -1.90948733  0.09874901 -1.4813291  -0.20454686]\n[False, True, True, False, True, True]\n",
          "output_type": "stream"
        },
        {
          "execution_count": 223,
          "output_type": "execute_result",
          "data": {
            "text/plain": "0.6666666666666666"
          },
          "metadata": {}
        }
      ],
      "execution_count": 223
    },
    {
      "cell_type": "code",
      "source": "class SVMLoss(nnModule):\n    def __init__(self, model):\n        super().__init__()\n        self.model = model\n\n    def forward(self, ins, ans):\n        pred = self.model.forward(ins)\n        return np.tanh(pred * -ans).sum() #neg becoz loss fn min\n\n    def accuracy(self, ins, ans):\n        pred = self.model.forward(ins)\n        cor = (pred * ans > 0).tolist()\n        cnt = 0\n        for _ in filter(lambda x: x, cor):\n            cnt += 1\n        return cnt/ans.shape[0]\n\nclass LinearClassifier(nnModule):\n    def __init__(self, dim):\n        super().__init__()\n        self.dim = dim\n        self.normal = nnParameter(val=2 * np.random.rand(dim) - 1.0)\n\n    def forward(self, data):\n        # data.shape == (batch, dim), ans.shape == (batch,)\n        pred = np.matmul(data, self.normal.value())\n        return pred",
      "metadata": {
        "trusted": true
      },
      "outputs": [],
      "execution_count": 246
    },
    {
      "cell_type": "code",
      "source": "truth = np.array([2.0, -1.0, 3.0, 0.4])\n\nmodel_simple1 = LinearClassifier(4)\noptimizer = OptimizerSGD(model_simple1.get_parameters(), {\"lambda\": 0.03})\n\ndata = np.random.randn(20, 4)\nans = np.sign(np.matmul(data, truth))\n\ndata_validation = np.random.randn(10, 4)\nans_validation = np.sign(np.matmul(data_validation, truth))\n\nloss = SVMLoss(model_simple1)\nprint(\"Initial accuracy: {a}\".format(a=loss.accuracy(data, ans)))\n\nmetric = {\"acc\": [], \"loss\": [], \"val_acc\": []}\n\nfor i in range(20):\n    loss.backward(data, ans)\n    optimizer.steps()\n    #print(test1.normal.val)\n    a=loss.accuracy(data, ans)\n    l=loss.forward(data, ans)\n    v=loss.accuracy(data_validation, ans_validation)\n    metric[\"acc\"].append(a)\n    metric[\"loss\"].append(l)\n    metric[\"val_acc\"].append(v)\n    print(\"Accuracy = {a}, Loss = {l}, validation acc = {v}\".format(a=a, l=l, v=v))",
      "metadata": {
        "trusted": true
      },
      "outputs": [
        {
          "name": "stdout",
          "text": "Initial accuracy: 0.45\nAccuracy = 0.5, Loss = 2.7100300978314156, validation acc = 0.4\nAccuracy = 0.55, Loss = 0.19585220326806596, validation acc = 0.5\nAccuracy = 0.6, Loss = -2.1442776208557404, validation acc = 0.8\nAccuracy = 0.6, Loss = -4.571409312600631, validation acc = 0.8\nAccuracy = 0.7, Loss = -7.250717904663995, validation acc = 0.9\nAccuracy = 0.8, Loss = -9.743052058374879, validation acc = 0.9\nAccuracy = 0.85, Loss = -11.340159788889414, validation acc = 0.9\nAccuracy = 0.85, Loss = -12.332420037877034, validation acc = 1.0\nAccuracy = 0.85, Loss = -13.063138764479264, validation acc = 1.0\nAccuracy = 0.85, Loss = -13.666317986664442, validation acc = 1.0\nAccuracy = 0.9, Loss = -14.193177358949251, validation acc = 1.0\nAccuracy = 0.9, Loss = -14.666293896811087, validation acc = 1.0\nAccuracy = 0.95, Loss = -15.102452573713764, validation acc = 1.0\nAccuracy = 0.95, Loss = -15.522657397628643, validation acc = 1.0\nAccuracy = 0.95, Loss = -15.955062823047134, validation acc = 1.0\nAccuracy = 0.95, Loss = -16.428963814163538, validation acc = 1.0\nAccuracy = 1.0, Loss = -16.935670433084038, validation acc = 1.0\nAccuracy = 1.0, Loss = -17.373580048260468, validation acc = 1.0\nAccuracy = 1.0, Loss = -17.660667018083394, validation acc = 1.0\nAccuracy = 1.0, Loss = -17.84195826134531, validation acc = 1.0\n",
          "output_type": "stream"
        }
      ],
      "execution_count": 267
    },
    {
      "cell_type": "code",
      "source": "import gc\ngc.collect()",
      "metadata": {
        "trusted": true
      },
      "outputs": [
        {
          "execution_count": 260,
          "output_type": "execute_result",
          "data": {
            "text/plain": "1768"
          },
          "metadata": {}
        }
      ],
      "execution_count": 260
    },
    {
      "cell_type": "code",
      "source": "import matplotlib.pyplot as plt",
      "metadata": {
        "trusted": true
      },
      "outputs": [],
      "execution_count": 268
    },
    {
      "cell_type": "code",
      "source": "plt.plot(metric[\"acc\"])\nplt.plot(metric[\"val_acc\"])\nplt.show()",
      "metadata": {
        "trusted": true
      },
      "outputs": [
        {
          "output_type": "display_data",
          "data": {
            "text/plain": "<Figure size 640x480 with 1 Axes>",
            "image/png": "[encoded data removed]"
          },
          "metadata": {}
        }
      ],
      "execution_count": 270
    },
    {
      "cell_type": "code",
      "source": "def nn_initializer(type, shape):\n    b = np.sqrt(6.0/(shape[0] + shape[1]))\n    return (np.random.rand(shape[0], shape[1]) - 0.5) * 2 * b\n\nclass LinearLayer(nnModule):\n    def __init__(self, shape, init='xavier'):\n        super().__init__()\n        self.shape = shape # (o, i)\n        self.w = nnParameter(val=nn_initializer('xavier', shape))\n        self.b = nnParameter(val=np.zeros(shape[1]))\n    def forward(self, x):\n        #print(x.shape)\n        #print(self.w.value().shape)\n        return np.matmul(x, self.w.value()) + self.b.value()\n\nclass ActivationFn(nnModule):\n    def __init__(self, type='tanh'):\n        super().__init__()\n        self.type = type\n    def forward(self, x):\n        return np.tanh(x)\n\nclass SoftMax(nnModule):\n    def __init__(self):\n        super().__init__()\n    def forward(self, logits):\n        x = np.exp(logits)\n        return x/x.sum()\n\nclass Sequential(nnModule):\n    def __init__(self, layers):\n        super().__init__()\n        self.layers = layers\n    def forward(self, ins):\n        cur = ins\n        for layer in self.layers:\n            #print(layer.shape)\n            cur = layer.forward(cur)\n        return cur",
      "metadata": {
        "trusted": true
      },
      "outputs": [],
      "execution_count": 324
    },
    {
      "cell_type": "code",
      "source": "(np.matmul(np.random.rand(4, 3), np.random.rand(2, 3).transpose()) + np.array([10, 10]))",
      "metadata": {
        "trusted": true
      },
      "outputs": [
        {
          "execution_count": 280,
          "output_type": "execute_result",
          "data": {
            "text/plain": "array([[11.25566122, 11.34251851],\n       [10.19037337, 10.23194779],\n       [11.4511318 , 11.18514511],\n       [10.23887158, 10.31595489]])"
          },
          "metadata": {}
        }
      ],
      "execution_count": 280
    },
    {
      "cell_type": "code",
      "source": "c = np.random.rand(5)\nc",
      "metadata": {
        "trusted": true
      },
      "outputs": [
        {
          "execution_count": 282,
          "output_type": "execute_result",
          "data": {
            "text/plain": "array([0.99360781, 0.5378062 , 0.69587567, 0.87038012, 0.78741767])"
          },
          "metadata": {}
        }
      ],
      "execution_count": 282
    },
    {
      "cell_type": "code",
      "source": "d = np.exp(c)\nd/d.sum()",
      "metadata": {
        "trusted": true
      },
      "outputs": [
        {
          "execution_count": 287,
          "output_type": "execute_result",
          "data": {
            "text/plain": "0.9999999999999999"
          },
          "metadata": {}
        }
      ],
      "execution_count": 287
    },
    {
      "cell_type": "code",
      "source": "",
      "metadata": {
        "trusted": true
      },
      "outputs": [],
      "execution_count": 325
    },
    {
      "cell_type": "code",
      "source": "simple_nn.get_parameters()",
      "metadata": {
        "trusted": true
      },
      "outputs": [
        {
          "execution_count": 309,
          "output_type": "execute_result",
          "data": {
            "text/plain": "{'layers.[0].w': <__main__.nnParameter at 0x4ee8320>,\n 'layers.[0].b': <__main__.nnParameter at 0x45ad9a8>,\n 'layers.[2].w': <__main__.nnParameter at 0x4effb68>,\n 'layers.[2].b': <__main__.nnParameter at 0x4f08d78>,\n 'layers.[4].w': <__main__.nnParameter at 0x459b808>,\n 'layers.[4].b': <__main__.nnParameter at 0x4ecb0a0>}"
          },
          "metadata": {}
        }
      ],
      "execution_count": 309
    },
    {
      "cell_type": "code",
      "source": "ttt = np.random.randn(5, 2)\nttt",
      "metadata": {
        "trusted": true
      },
      "outputs": [
        {
          "execution_count": 298,
          "output_type": "execute_result",
          "data": {
            "text/plain": "array([[-0.19156498,  1.20337073],\n       [-0.54031015,  0.27813046],\n       [ 1.79954953, -0.4581737 ],\n       [-1.13629506, -1.21543726],\n       [-1.0519437 ,  0.38517132]])"
          },
          "metadata": {}
        }
      ],
      "execution_count": 298
    },
    {
      "cell_type": "code",
      "source": "np.array((1, 2, 3)).prod()",
      "metadata": {
        "trusted": true
      },
      "outputs": [
        {
          "execution_count": 336,
          "output_type": "execute_result",
          "data": {
            "text/plain": "6"
          },
          "metadata": {}
        }
      ],
      "execution_count": 336
    },
    {
      "cell_type": "code",
      "source": "simple_nn = Sequential([\n    LinearLayer(shape=(2, 5)),\n    ActivationFn(),\n    LinearLayer(shape=(5, 4)),\n    ActivationFn(),\n    LinearLayer(shape=(4, 2)),\n    SoftMax()\n])\n\np_cnt = 0\nfor k, v in simple_nn.get_parameters().items():\n    print(\"{k}: Shape {s}\".format(k=k, s=v.val.shape))\n    p_cnt += np.array(v.val.shape).prod()\nprint(\"Total param = {t}\".format(t=p_cnt))\n\noptimizer = OptimizerSGD(simple_nn.get_parameters(), {\"lambda\": 0.03})\n\ndata = np.random.randn(20, 2)\nans = np.sign(np.power(data[:, 0], 3) - data[:, 1])\n\ndata_validation = np.random.randn(10, 2)\nans_validation = np.sign(np.power(data_validation[:, 0], 3) - data_validation[:, 1])\n\nclass TestLoss(nnModule):\n    def __init__(self, model):\n        super().__init__()\n        self.model = model\n    def forward(self, ins, ans):\n        return (- self.model.forward(ins)[:,0] * ans).sum()\n\n#loss = SVMLoss(model_simple1)\nloss = TestLoss(simple_nn)\n#print(\"Initial accuracy: {a}\".format(a=loss.accuracy(data, ans)))\n\nmetric = {\"acc\": [], \"loss\": [], \"val_acc\": []}\n\nfor i in range(20):\n    loss.backward(data, ans)\n    optimizer.steps()\n    #print(test1.normal.val)\n    #a=loss.accuracy(data, ans)\n    l=loss.forward(data, ans)\n    #v=loss.accuracy(data_validation, ans_validation)\n    #metric[\"acc\"].append(a)\n    metric[\"loss\"].append(l)\n    #metric[\"val_acc\"].append(v)\n    v=0\n    a=0\n    print(\"Accuracy = {a}, Loss = {l}, validation acc = {v}\".format(a=a, l=l, v=v))",
      "metadata": {
        "trusted": true
      },
      "outputs": [
        {
          "name": "stdout",
          "text": "layers.[0].w: Shape (2, 5)\nlayers.[0].b: Shape (5,)\nlayers.[2].w: Shape (5, 4)\nlayers.[2].b: Shape (4,)\nlayers.[4].w: Shape (4, 2)\nlayers.[4].b: Shape (2,)\nTotal param = 49\nAccuracy = 0, Loss = 0.24803716001802428, validation acc = 0\nAccuracy = 0, Loss = 0.23189470554300565, validation acc = 0\nAccuracy = 0, Loss = 0.21606247895700353, validation acc = 0\nAccuracy = 0, Loss = 0.20054583937117376, validation acc = 0\nAccuracy = 0, Loss = 0.18534532629355702, validation acc = 0\nAccuracy = 0, Loss = 0.17045700263917993, validation acc = 0\nAccuracy = 0, Loss = 0.15587283138310642, validation acc = 0\nAccuracy = 0, Loss = 0.1415810680497712, validation acc = 0\nAccuracy = 0, Loss = 0.12756665424917393, validation acc = 0\nAccuracy = 0, Loss = 0.11381160065021007, validation acc = 0\nAccuracy = 0, Loss = 0.1002953508905001, validation acc = 0\nAccuracy = 0, Loss = 0.08699512080225325, validation acc = 0\nAccuracy = 0, Loss = 0.07388620989355311, validation acc = 0\nAccuracy = 0, Loss = 0.06094228422679374, validation acc = 0\nAccuracy = 0, Loss = 0.04813563168356963, validation acc = 0\nAccuracy = 0, Loss = 0.03543739212703472, validation acc = 0\nAccuracy = 0, Loss = 0.02281776621173362, validation acc = 0\nAccuracy = 0, Loss = 0.010246207594738915, validation acc = 0\nAccuracy = 0, Loss = -0.002308395884925332, validation acc = 0\nAccuracy = 0, Loss = -0.014877545833574254, validation acc = 0\n",
          "output_type": "stream"
        }
      ],
      "execution_count": 340
    },
    {
      "cell_type": "code",
      "source": "np.sign(np.power(ttt[:, 0], 3) - ttt[:, 1])",
      "metadata": {
        "trusted": true
      },
      "outputs": [
        {
          "execution_count": 304,
          "output_type": "execute_result",
          "data": {
            "text/plain": "array([-1., -1.,  1., -1., -1.])"
          },
          "metadata": {}
        }
      ],
      "execution_count": 304
    },
    {
      "cell_type": "code",
      "source": "gc.collect()",
      "metadata": {
        "trusted": true
      },
      "outputs": [
        {
          "execution_count": 341,
          "output_type": "execute_result",
          "data": {
            "text/plain": "8"
          },
          "metadata": {}
        }
      ],
      "execution_count": 341
    }
  ]
}